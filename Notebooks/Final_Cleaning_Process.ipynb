{
 "cells": [
  {
   "cell_type": "markdown",
   "id": "4a29bf97-1f77-4627-ae29-4bbd134c04f6",
   "metadata": {},
   "source": [
    "# Data Preparation (Cleaning the Dataset)\n",
    "Data cleaning is a fundamental step in any data analysis or machine learning project. Raw datasets often contain missing values, duplicates, incorrect formats, or inconsistencies that can lead to inaccurate conclusions and unreliable models. Cleaning the data ensures that we have high-quality, structured, and reliable information for analysis.\n",
    "\n",
    "## Why is Data cleaning important?\n",
    "1. **Improves Accuracy** – Ensures that data-driven decisions are based on correct information.\n",
    "2. **Enhances Efficiency** – Reduces errors and makes data analysis smoother.\n",
    "4. **Prepares Data for Modeling** – Clean data leads to better machine learning performance.\n",
    "5. **Removes Duplicates & Outliers** – Prevents misleading insights.\n",
    "6. **Standardizes Data Format** – Ensures consistency across all records.\n",
    "\n",
    "## Steps\n",
    "\n",
    "1. **Load the Dataset** – Read the CSV file and inspect its structure.\n",
    "2. **Convert Data Types** – Ensure numerical, categorical, and date fields are correctly formatted.  \n",
    "3. **Check for Missing Values** – Identify and handle missing data\n",
    "4. **Remove Duplicates** – Ensure unique records.\n",
    "5. **Handle Inconsistent Formatting** – Standardize text formats and column names\n",
    "6. **Detect and Handle Outliers** – Remove or adjust extreme values that may distort the analysis.\n",
    "\n",
    "\n",
    "\n"
   ]
  },
  {
   "cell_type": "code",
   "execution_count": null,
   "id": "c6ae0101-af9b-4a1c-925e-5e4ff2320a0e",
   "metadata": {},
   "outputs": [
    {
     "name": "stdout",
     "output_type": "stream",
     "text": [
      "Track                          object\n",
      "Album Name                     object\n",
      "Artist                         object\n",
      "Release Date                   object\n",
      "ISRC                           object\n",
      "All Time Rank                  object\n",
      "Track Score                   float64\n",
      "Spotify Streams                object\n",
      "Spotify Playlist Count         object\n",
      "Spotify Playlist Reach         object\n",
      "Spotify Popularity            float64\n",
      "YouTube Views                  object\n",
      "YouTube Likes                  object\n",
      "TikTok Posts                   object\n",
      "TikTok Likes                   object\n",
      "TikTok Views                   object\n",
      "YouTube Playlist Reach         object\n",
      "Apple Music Playlist Count    float64\n",
      "AirPlay Spins                  object\n",
      "SiriusXM Spins                 object\n",
      "Deezer Playlist Count         float64\n",
      "Deezer Playlist Reach          object\n",
      "Amazon Playlist Count         float64\n",
      "Pandora Streams                object\n",
      "Pandora Track Stations         object\n",
      "Soundcloud Streams             object\n",
      "Shazam Counts                  object\n",
      "TIDAL Popularity              float64\n",
      "Explicit Track                  int64\n",
      "dtype: object\n"
     ]
    }
   ],
   "source": [
    "# Step 1 (Importing Libraries and Loading the Dataset)\n",
    "\n",
    "import numpy as np\n",
    "import matplotlib.pyplot as plt\n",
    "import pandas as pd\n",
    "import seaborn as sns\n",
    "df = pd.read_csv(r\"Most Streamed Spotify Songs 2024.csv\", encoding = \"latin1\")\n",
    "\n",
    "print(df.dtypes)\n"
   ]
  },
  {
   "cell_type": "code",
   "execution_count": 923,
   "id": "0a4f7387-d83d-44ba-ab9e-9194419bb2b4",
   "metadata": {},
   "outputs": [],
   "source": [
    "# Step 2 (Convert Datatypes to its right format)\n",
    "# Some of the columns will have their datatypes get adjusted in the \"Missing values\" step \n",
    "\n",
    "# 1. Convert 'Release Date' from object to datetime\n",
    "df[\"Release Date\"] = pd.to_datetime(df[\"Release Date\"], errors=\"coerce\")\n",
    "\n",
    "# 2. Convert columns that should be numeric but are stored as object\n",
    "columns_to_convert = [\n",
    "    \"All Time Rank\",\n",
    "    \"Spotify Playlist Count\",\n",
    "    \"Spotify Playlist Reach\",\n",
    "    \"YouTube Playlist Reach\",\n",
    "    \"AirPlay Spins\",\n",
    "    \"SiriusXM Spins\",\n",
    "    \"Pandora Streams\",\n",
    "    \"Pandora Track Stations\",\n",
    "    \"Soundcloud Streams\",\n",
    "    \"Shazam Counts\"\n",
    "]\n",
    "\n",
    "for col in columns_to_convert:\n",
    "    if df[col].dtype == \"object\":\n",
    "        # Remove commas if present and convert to float (or int if appropriate)\n",
    "        df[col] = pd.to_numeric(df[col].str.replace(\",\", \"\"), errors=\"coerce\")\n"
   ]
  },
  {
   "cell_type": "code",
   "execution_count": 925,
   "id": "59673e86-42ce-42f0-b68f-c75431e5210a",
   "metadata": {},
   "outputs": [
    {
     "name": "stdout",
     "output_type": "stream",
     "text": [
      "Track                            0\n",
      "Album Name                       0\n",
      "Artist                           5\n",
      "Release Date                     0\n",
      "ISRC                             0\n",
      "All Time Rank                    0\n",
      "Track Score                      0\n",
      "Spotify Streams                113\n",
      "Spotify Playlist Count          70\n",
      "Spotify Playlist Reach          72\n",
      "Spotify Popularity             804\n",
      "YouTube Views                  308\n",
      "YouTube Likes                  315\n",
      "TikTok Posts                  1173\n",
      "TikTok Likes                   980\n",
      "TikTok Views                   981\n",
      "YouTube Playlist Reach        1009\n",
      "Apple Music Playlist Count     561\n",
      "AirPlay Spins                  498\n",
      "SiriusXM Spins                2123\n",
      "Deezer Playlist Count          921\n",
      "Deezer Playlist Reach          928\n",
      "Amazon Playlist Count         1055\n",
      "Pandora Streams               1106\n",
      "Pandora Track Stations        1268\n",
      "Soundcloud Streams            3333\n",
      "Shazam Counts                  577\n",
      "TIDAL Popularity              4600\n",
      "Explicit Track                   0\n",
      "dtype: int64\n"
     ]
    }
   ],
   "source": [
    "# Step 3 (Checking for and Handling missing values)\n",
    "print(df.isnull().sum())"
   ]
  },
  {
   "cell_type": "code",
   "execution_count": 927,
   "id": "c54752ab-21de-4a60-a725-80ac8f15f55c",
   "metadata": {},
   "outputs": [
    {
     "data": {
      "image/png": "[encoded data removed]",
      "text/plain": [
       "<Figure size 1200x800 with 1 Axes>"
      ]
     },
     "metadata": {},
     "output_type": "display_data"
    }
   ],
   "source": [
    "# The heatmap visualizes the location of NaN values across the dataset,\n",
    "# making it easier to identify patterns or areas that require further cleaning.\n",
    "\n",
    "# Set the figure size for better visibility\n",
    "plt.figure(figsize=(12, 8))\n",
    "\n",
    "# Create a heatmap of null values; each cell is colored if it is NaN\n",
    "sns.heatmap(df.isnull(), cbar=False, yticklabels=False, cmap='viridis')\n",
    "\n",
    "# The color Yellow indicates null values\n",
    "\n",
    "plt.title(\"Heatmap of Missing Values\")\n",
    "plt.show()\n"
   ]
  },
  {
   "cell_type": "code",
   "execution_count": null,
   "id": "bc1dd6e5-3a70-483d-9dfd-efa1321b2ecd",
   "metadata": {
    "scrolled": true
   },
   "outputs": [],
   "source": [
    "df = df.dropna(subset = [\"Artist\"]) # After some inspection, Rows with missing artist names were dropped due to extensive missing \n",
    "# or nonsensical values, ensuring data integrity and accuracy in analysis (5 rows).\n",
    "\n",
    "df = df.dropna(subset=[\"Spotify Streams\"]) # Rows with missing Spotify Streams were dropped due to excessive missing values \n",
    "# across multiple columns, making them unreliable for analysis.\n",
    "\n",
    "df[\"Spotify Playlist Count\"] = df[\"Spotify Playlist Count\"].fillna(0) # Replaced null values with 0 because a missing value in \n",
    "# \"Spotify Playlist Count\" means the track is not featured in any playlists. Setting it to 0 ensures consistency in the dataset.\n",
    "\n",
    "df[\"Spotify Playlist Reach\"] = df[\"Spotify Playlist Reach\"].fillna(0) # Replaced null values with 0 in \"Spotify Playlist Reach\" \n",
    "# because a missing value likely means the track is not featured in any playlists or its reach data is unavailable. While a track \n",
    "# could be in a playlist with zero reach (e.g., no followers or private playlists), setting NaNs to 0 ensures consistency and \n",
    "# avoids issues in analysis.\n",
    "\n",
    "# Convert \"Spotify Streams\" to numeric only if it's not already\n",
    "if df[\"Spotify Streams\"].dtype == \"object\":\n",
    "    df[\"Spotify Streams\"] = df[\"Spotify Streams\"].str.replace(\",\", \"\").astype(float)\n",
    "# Convert \"Spotify Popularity\" to numeric (just in case of non-numeric values)\n",
    "df[\"Spotify Popularity\"] = pd.to_numeric(df[\"Spotify Popularity\"], errors=\"coerce\")\n",
    "median_popularity = df[\"Spotify Popularity\"].median()\n",
    "# Fill missing values based on Spotify Streams\n",
    "df.loc[(df[\"Spotify Streams\"] > df[\"Spotify Streams\"].median()) & (df[\"Spotify Popularity\"].isna()), \"Spotify Popularity\"] = median_popularity\n",
    "df.loc[(df[\"Spotify Streams\"] <= df[\"Spotify Streams\"].median()) & (df[\"Spotify Popularity\"].isna()), \"Spotify Popularity\"] = 0\n",
    "# Handling missing values in \"Spotify Popularity\" based on streaming data  \n",
    "# - Tracks with **high Spotify Streams** are more likely to be popular, so we fill their null popularity scores with the median value.  \n",
    "# - Tracks with **low Spotify Streams** are less likely to be popular, so we fill their null popularity scores with 0.  \n",
    "# - This ensures a **realistic and data-driven approach** rather than assuming missing values are random, improving data integrity.\n",
    "\n",
    "# Convert \"YouTube Views\" to numeric only if it's not already\n",
    "if df[\"YouTube Views\"].dtype == \"object\":\n",
    "    df[\"YouTube Views\"] = df[\"YouTube Views\"].str.replace(\",\", \"\").astype(float)\n",
    "# Convert YouTube Views column to numeric in case there are any non-numeric values\n",
    "df[\"YouTube Views\"] = pd.to_numeric(df[\"YouTube Views\"], errors=\"coerce\")\n",
    "# Calculate the median YouTube Views\n",
    "median_youtube_views = df[\"YouTube Views\"].median()\n",
    "# Fill only the null values based on Spotify Streams\n",
    "df.loc[df[\"YouTube Views\"].isna() & (df[\"Spotify Streams\"] > df[\"Spotify Streams\"].median()), \"YouTube Views\"] = median_youtube_views\n",
    "df.loc[df[\"YouTube Views\"].isna() & (df[\"Spotify Streams\"] <= df[\"Spotify Streams\"].median()), \"YouTube Views\"] = 0\n",
    "# Missing YouTube Views were handled by considering Spotify Streams as an indicator of popularity.\n",
    "# - If a track has high Spotify Streams, it likely has YouTube views, so NaNs were replaced with the median YouTube Views.\n",
    "# - If a track has low Spotify Streams, it may not be on YouTube or has very few views, so NaNs were replaced with 0.\n",
    "# This approach ensures consistency while preserving meaningful data.\n",
    "\n",
    "# Convert \"YouTube Likes\" to numeric only if it's not already and removing the commas\n",
    "if df[\"YouTube Likes\"].dtype == \"object\":\n",
    "    df[\"YouTube Likes\"] = df[\"YouTube Likes\"].str.replace(\",\", \"\").astype(float)\n",
    "# Convert YouTube Likes column to numeric in case there are any non-numeric values\n",
    "df[\"YouTube Likes\"] = pd.to_numeric(df[\"YouTube Likes\"], errors=\"coerce\")\n",
    "# Calculate the median YouTube Likes\n",
    "median_youtube_likes = df[\"YouTube Likes\"].median()\n",
    "# Fill only the null values based on YouTube Views\n",
    "df.loc[df[\"YouTube Likes\"].isna() & (df[\"YouTube Views\"] > df[\"YouTube Views\"].median()), \"YouTube Likes\"] = median_youtube_likes\n",
    "df.loc[df[\"YouTube Likes\"].isna() & (df[\"YouTube Views\"] <= df[\"YouTube Views\"].median()), \"YouTube Likes\"] = 0\n",
    "# Missing values were filled based on YouTube Views:\n",
    "# - If the track has high YouTube Views, it gets the median YouTube Likes.\n",
    "# - If the track has low YouTube Views, it gets 0 YouTube Likes.\n",
    "# This maintains data consistency and ensures missing values are handled logically.\n",
    "\n",
    "# Convert \"TikTok Posts\" to numeric only if it's not already numeric\n",
    "if df[\"TikTok Posts\"].dtype == \"object\":\n",
    "    df[\"TikTok Posts\"] = df[\"TikTok Posts\"].str.replace(\",\", \"\").astype(float)\n",
    "# Ensure the conversion with pd.to_numeric to catch any remaining non-numeric values\n",
    "df[\"TikTok Posts\"] = pd.to_numeric(df[\"TikTok Posts\"], errors=\"coerce\")\n",
    "df[\"TikTok Posts\"] = df[\"TikTok Posts\"].fillna(0) # Handling null values in the column \"TikTok Posts\" by assigning these\n",
    "# values to zero, since not all songs are used in TikTok Posts\n",
    "# Ensure TikTok Likes and Views are 0 where TikTok Posts is 0 (this step is done again in cleaning the \"TikTok Views\" column\n",
    "# for clarification)\n",
    "df.loc[df[\"TikTok Posts\"] == 0, [\"TikTok Likes\", \"TikTok Views\"]] = 0 # If a track has 0 TikTok Posts, it logically means \n",
    "# there are no associated Likes or Views. This ensures consistency in the dataset and prevents misleading engagement data.\n",
    "\n",
    "# Convert \"TikTok Views\" to numeric only if it's not already\n",
    "if df[\"TikTok Views\"].dtype == \"object\":\n",
    "    df[\"TikTok Views\"] = df[\"TikTok Views\"].str.replace(\",\", \"\").astype(float)\n",
    "# Ensure \"TikTok Views\" is numeric, coercing any problematic values\n",
    "df[\"TikTok Views\"] = pd.to_numeric(df[\"TikTok Views\"], errors=\"coerce\")\n",
    "# Calculate the median of TikTok Views\n",
    "median_tiktok_views = df[\"TikTok Views\"].median()\n",
    "# Fill missing TikTok Views based on TikTok Posts:\n",
    "# - If a track has posts (i.e. > 0) but missing Views, assume median views.\n",
    "# - If a track has 0 posts, assign 0 views.\n",
    "df.loc[df[\"TikTok Views\"].isna() & (df[\"TikTok Posts\"] > 0), \"TikTok Views\"] = median_tiktok_views\n",
    "df.loc[df[\"TikTok Views\"].isna() & (df[\"TikTok Posts\"] == 0), \"TikTok Views\"] = 0\n",
    "# Missing values were filled based on TikTok Posts:\n",
    "# - If a track has TikTok Posts but missing Views, we assign the median value,\n",
    "# - assuming that such tracks typically garner a moderate number of views.\n",
    "# - If a track has 0 posts, we set the views to 0.\n",
    "# - these values might not be the most accurate however, we are only adjusting about 20 rows so it won't affect the analysis\n",
    "\n",
    "# Convert \"TikTok Likes\" to numeric only if it's not already\n",
    "if df[\"TikTok Likes\"].dtype == \"object\":\n",
    "    df[\"TikTok Likes\"] = df[\"TikTok Likes\"].str.replace(\",\", \"\").astype(float)\n",
    "# Ensure \"TikTok Likes\" is numeric\n",
    "df[\"TikTok Likes\"] = pd.to_numeric(df[\"TikTok Likes\"], errors=\"coerce\")\n",
    "# Calculate the median of TikTok Likes\n",
    "median_tiktok_likes = df[\"TikTok Likes\"].median()\n",
    "# Fill missing TikTok Likes based on TikTok Views:\n",
    "# - If a track has high TikTok Views (above the median), fill missing Likes with the median likes.\n",
    "# - If a track has low TikTok Views (at or below the median), set missing Likes to 0.\n",
    "df.loc[df[\"TikTok Likes\"].isna() & (df[\"TikTok Views\"] > median_tiktok_views), \"TikTok Likes\"] = median_tiktok_likes\n",
    "df.loc[df[\"TikTok Likes\"].isna() & (df[\"TikTok Views\"] <= median_tiktok_views), \"TikTok Likes\"] = 0\n",
    "# Missing values were filled based on TikTok Posts:\n",
    "# - Tracks with high TikTok Views (above the median) are assumed to have engagement,\n",
    "#   so missing likes are replaced with the median likes.\n",
    "# - Tracks with low TikTok Views (at or below the median) are assumed to have little engagement, so missing likes are set to 0.\n",
    "# This approach ensures that the estimation for missing likes is directly informed by the available views data.\n",
    "\n",
    "# Fill missing YouTube Playlist Reach values with 0 since there is no other attributes that directly relates to \n",
    "# \"Youtube Playlist Reach\"\n",
    "df[\"YouTube Playlist Reach\"] = df[\"YouTube Playlist Reach\"].fillna(0)\n",
    "# Filled missing values in \"YouTube Playlist Reach\" with 0, as a null value likely indicates that \n",
    "# the track is not featured in any YouTube playlists. This ensures \n",
    "# that the dataset accurately reflects that these tracks have no associated playlist reach.\n",
    "\n",
    "# Fill missing values with 0, assuming a missing count means the track isn't featured on Apple Music playlists\n",
    "df[\"Apple Music Playlist Count\"] = df[\"Apple Music Playlist Count\"].fillna(0)\n",
    "# Missing values were filled with 0 since a missing count indicates that the track is not featured in any Apple Music playlists.\n",
    "# We cannot use a median value for the nulls since we do not have any other column that directly relates to \n",
    "# \"Apple Music Playlist Count\". This is normal because not all Tracks have to exist in Apple Music playlists.\n",
    "\n",
    "# Fill missing values with 0, assuming that a missing value means no AirPlay spins were recorded\n",
    "df[\"AirPlay Spins\"] = df[\"AirPlay Spins\"].fillna(0)\n",
    "# Missing values were replaced with 0, since a missing value indicates that no spins were recorded and no other \n",
    "# attributes directly relates to Airplay Spins for which we cannot use a median for the nulls.\n",
    "# This approach maintains data consistency.\n",
    "\n",
    "# Fill missing values with 0, assuming that a missing value means no spins were recorded on SiriusXM\n",
    "df[\"SiriusXM Spins\"] = df[\"SiriusXM Spins\"].fillna(0)\n",
    "# Filled the missing values with 0 under the assumption that a missing value indicates that no spins were recorded.\n",
    "# No other columns directly relates to the values of \"SiriusXM\", therefore replacing the the nulls with 0 is a good approach.\n",
    "\n",
    "# Fill missing values with 0, assuming that a missing value means the track is not featured in any Deezer playlists\n",
    "df[\"Deezer Playlist Count\"] = df[\"Deezer Playlist Count\"].fillna(0)\n",
    "# Missing values are replaced with 0 under the assumption that a missing count indicates the track is not included in any\n",
    "# Deezer playlists.  No other columns directly relates to the values of \"Deezer Playlist Count\", therefore replacing the \n",
    "# the nulls with 0 is a good approach.\n",
    "\n",
    "# Convert \"Deezer Playlist Reach\" to numeric only if it's not already numeric\n",
    "if df[\"Deezer Playlist Reach\"].dtype == \"object\":\n",
    "    df[\"Deezer Playlist Reach\"] = df[\"Deezer Playlist Reach\"].str.replace(\",\", \"\").astype(float)\n",
    "# Ensure conversion to numeric, coercing any non-numeric values to NaN\n",
    "df[\"Deezer Playlist Reach\"] = pd.to_numeric(df[\"Deezer Playlist Reach\"], errors=\"coerce\")\n",
    "# For rows with nonzero Deezer Playlist Count but missing reach, fill with the median reach (calculated from rows where count > 0)\n",
    "median_reach_nonzero = df.loc[df[\"Deezer Playlist Count\"] > 0, \"Deezer Playlist Reach\"].median()\n",
    "df.loc[(df[\"Deezer Playlist Count\"] > 0) & (df[\"Deezer Playlist Reach\"].isna()), \"Deezer Playlist Reach\"] = median_reach_nonzero\n",
    "# For rows with 0 Deezer Playlist Count, ensure reach is 0\n",
    "df.loc[(df[\"Deezer Playlist Count\"] == 0) & (df[\"Deezer Playlist Reach\"].isna()), \"Deezer Playlist Reach\"] = 0\n",
    "# For tracks with a nonzero Deezer Playlist Count, a missing \"Deezer Playlist Reach\" indicates a data gap.\n",
    "# We impute these missing values with the median reach calculated from tracks that have a nonzero count. this won't really\n",
    "# affect the data since its only a couple of rows getting modified\n",
    "# For tracks with a Deezer Playlist Count of 0, we set the reach to 0, assuming no exposure via playlists..\n",
    "\n",
    "# Fill missing values with 0, assuming that a missing value indicates the track is not featured in any Amazon playlists\n",
    "df[\"Amazon Playlist Count\"] = df[\"Amazon Playlist Count\"].fillna(0)\n",
    "\n",
    "# Fill missing values with 0, assuming that a missing value indicates the track has no recorded Pandora streams\n",
    "df[\"Pandora Streams\"] = df[\"Pandora Streams\"].fillna(0)\n",
    "\n",
    "# Fill missing values with 0, assuming that a missing value indicates the track is not featured on any Pandora radio stations\n",
    "df[\"Pandora Track Stations\"] = df[\"Pandora Track Stations\"].fillna(0)\n",
    "\n",
    "# Fill missing values with 0, assuming that a missing value indicates no SoundCloud streams were recorded\n",
    "df[\"Soundcloud Streams\"] = df[\"Soundcloud Streams\"].fillna(0)\n",
    "\n",
    "# Fill missing values with 0, assuming that a missing value indicates that the track has no recorded Shazam counts\n",
    "df[\"Shazam Counts\"] = df[\"Shazam Counts\"].fillna(0)\n",
    "\n",
    "# Drop the \"TIDAL Popularity\" column since it contains mostly null values and adds no value to the analysis.\n",
    "df = df.drop(columns=[\"TIDAL Popularity\"])\n",
    "\n",
    "# Now the dataset has no null values, they were removed or replaced as follows:\n",
    "# - For some attributes, entire rows with critical missing values were removed.\n",
    "# - For others, missing values were replaced with 0 when a missing value logically indicated an absence (e.g., no playlists).\n",
    "# - In cases where missing values likely resulted from data collection issues (e.g., popularity metrics),\n",
    "#   the median was used to impute a reasonable estimate.\n",
    "# This case-dependent approach ensured that our dataset is both complete and accurately represents the underlying data."
   ]
  },
  {
   "cell_type": "code",
   "execution_count": 931,
   "id": "66dcf45a-8141-47db-a326-2aa94fe128a5",
   "metadata": {},
   "outputs": [
    {
     "name": "stdout",
     "output_type": "stream",
     "text": [
      "Track                         0\n",
      "Album Name                    0\n",
      "Artist                        0\n",
      "Release Date                  0\n",
      "ISRC                          0\n",
      "All Time Rank                 0\n",
      "Track Score                   0\n",
      "Spotify Streams               0\n",
      "Spotify Playlist Count        0\n",
      "Spotify Playlist Reach        0\n",
      "Spotify Popularity            0\n",
      "YouTube Views                 0\n",
      "YouTube Likes                 0\n",
      "TikTok Posts                  0\n",
      "TikTok Likes                  0\n",
      "TikTok Views                  0\n",
      "YouTube Playlist Reach        0\n",
      "Apple Music Playlist Count    0\n",
      "AirPlay Spins                 0\n",
      "SiriusXM Spins                0\n",
      "Deezer Playlist Count         0\n",
      "Deezer Playlist Reach         0\n",
      "Amazon Playlist Count         0\n",
      "Pandora Streams               0\n",
      "Pandora Track Stations        0\n",
      "Soundcloud Streams            0\n",
      "Shazam Counts                 0\n",
      "Explicit Track                0\n",
      "dtype: int64\n"
     ]
    }
   ],
   "source": [
    "print(df.isnull().sum())"
   ]
  },
  {
   "cell_type": "code",
   "execution_count": 933,
   "id": "29f4d778-9592-440d-bbe5-2703320868d9",
   "metadata": {
    "scrolled": true
   },
   "outputs": [
    {
     "name": "stdout",
     "output_type": "stream",
     "text": [
      "                 Track        Album Name         Artist Release Date  \\\n",
      "2449  Tennessee Orange  Tennessee Orange  Megan Moroney   2022-09-02   \n",
      "2450  Tennessee Orange  Tennessee Orange  Megan Moroney   2022-09-02   \n",
      "3447            Dembow            Dembow    Danny Ocean   2017-12-08   \n",
      "3450            Dembow            Dembow    Danny Ocean   2017-12-08   \n",
      "\n",
      "              ISRC  All Time Rank  Track Score  Spotify Streams  \\\n",
      "2449  TCAGJ2289254           2424         28.9      227893586.0   \n",
      "2450  TCAGJ2289254           2424         28.9      227893586.0   \n",
      "3447  USWL11700269           3441         23.3      579189526.0   \n",
      "3450  USWL11700269           3441         23.3      579189526.0   \n",
      "\n",
      "      Spotify Playlist Count  Spotify Playlist Reach  ...  AirPlay Spins  \\\n",
      "2449                 28139.0              12480714.0  ...       129172.0   \n",
      "2450                 28139.0              12480714.0  ...       129172.0   \n",
      "3447                 60397.0              11805084.0  ...         5406.0   \n",
      "3450                 60397.0              11805084.0  ...         5406.0   \n",
      "\n",
      "      SiriusXM Spins  Deezer Playlist Count  Deezer Playlist Reach  \\\n",
      "2449            34.0                    5.0                 1370.0   \n",
      "2450            34.0                    5.0                 1370.0   \n",
      "3447             9.0                   20.0                37649.0   \n",
      "3450             9.0                   20.0                37649.0   \n",
      "\n",
      "      Amazon Playlist Count  Pandora Streams  Pandora Track Stations  \\\n",
      "2449                   49.0       56972562.0                 26968.0   \n",
      "2450                   49.0       56972562.0                 26968.0   \n",
      "3447                   12.0        6723858.0                  7832.0   \n",
      "3450                   12.0        6723858.0                  7832.0   \n",
      "\n",
      "      Soundcloud Streams  Shazam Counts  Explicit Track  \n",
      "2449           1336043.0       708143.0               0  \n",
      "2450           1336043.0       708143.0               0  \n",
      "3447                 0.0      1619550.0               0  \n",
      "3450                 0.0      1619550.0               0  \n",
      "\n",
      "[4 rows x 28 columns]\n"
     ]
    }
   ],
   "source": [
    "# Step 4 (Removing Duplicate rows)\n",
    "duplicate_rows = df[df.duplicated(keep=False)]\n",
    "print(duplicate_rows) # To see the duplicate rows"
   ]
  },
  {
   "cell_type": "code",
   "execution_count": 935,
   "id": "d6128765-0578-4e86-bd46-f11d1cf0e435",
   "metadata": {},
   "outputs": [],
   "source": [
    "df = df.drop_duplicates() # To remove the duplicates "
   ]
  },
  {
   "cell_type": "code",
   "execution_count": null,
   "id": "7bb68256-2a5f-44f3-963a-6bd215dbe9e1",
   "metadata": {},
   "outputs": [],
   "source": [
    "# Step 5 (Handling Inconsistent Formatting)\n",
    "df.columns = df.columns.str.strip().str.lower().str.replace(\" \", \"_\")\n",
    "# Standardizes the column names by:\n",
    "# - Removing any extra whitespace at the beginning or end,\n",
    "# - Converting all characters to lowercase,\n",
    "# - Replacing spaces with underscores.\n",
    "# This ensures that the column names are consistent and are easier to reference."
   ]
  },
  {
   "cell_type": "code",
   "execution_count": 939,
   "id": "50d8f0d1-a60c-4cf1-a8c5-066b0e00d1de",
   "metadata": {},
   "outputs": [
    {
     "name": "stdout",
     "output_type": "stream",
     "text": [
      "[]\n"
     ]
    }
   ],
   "source": [
    "# This will print any column names that still contain a space\n",
    "print([col for col in df.columns if \" \" in col])"
   ]
  },
  {
   "cell_type": "code",
   "execution_count": null,
   "id": "d1d792cd-fc6d-4ea2-9ac3-af4e28af42a6",
   "metadata": {},
   "outputs": [
    {
     "name": "stdout",
     "output_type": "stream",
     "text": [
      "['track', 'album_name', 'artist', 'release_date', 'isrc', 'all_time_rank', 'track_score', 'spotify_streams', 'spotify_playlist_count', 'spotify_playlist_reach', 'spotify_popularity', 'youtube_views', 'youtube_likes', 'tiktok_posts', 'tiktok_likes', 'tiktok_views', 'youtube_playlist_reach', 'apple_music_playlist_count', 'airplay_spins', 'siriusxm_spins', 'deezer_playlist_count', 'deezer_playlist_reach', 'amazon_playlist_count', 'pandora_streams', 'pandora_track_stations', 'soundcloud_streams', 'shazam_counts', 'explicit_track']\n"
     ]
    }
   ],
   "source": [
    "print(df.columns.tolist())\n",
    "# To check that all white space from column names is removed, all spaces have been replaced with underscores and all characters are lower case\n"
   ]
  },
  {
   "cell_type": "code",
   "execution_count": null,
   "id": "57852a1b-c8dc-4018-811e-f23532e30604",
   "metadata": {},
   "outputs": [
    {
     "name": "stdout",
     "output_type": "stream",
     "text": [
      "Any leftover whitespace in records: False\n"
     ]
    }
   ],
   "source": [
    "# Check for leftover leading or trailing whitespace in string columns\n",
    "whitespace_exists = any(\n",
    "    df[col].map(lambda x: isinstance(x, str) and (x != x.strip())).any()\n",
    "    for col in df.select_dtypes(include=\"object\").columns\n",
    ")\n",
    "print(\"Any leftover whitespace in records:\", whitespace_exists)"
   ]
  },
  {
   "cell_type": "code",
   "execution_count": 965,
   "id": "1c1c258a-cae7-4e4f-be65-e0dde155274d",
   "metadata": {},
   "outputs": [],
   "source": [
    "# To print the columns with leading or trailing white space\n",
    "for col in df.select_dtypes(include=\"object\").columns:\n",
    "    bad_rows = df[df[col].map(lambda x: isinstance(x, str) and (x != x.strip()))]\n",
    "    if not bad_rows.empty:\n",
    "        print(f\"Column '{col}' has rows with extra whitespace:\")\n",
    "        print(bad_rows[[col]])\n"
   ]
  },
  {
   "cell_type": "code",
   "execution_count": null,
   "id": "60fad618-72e0-40cf-b31b-bc149fff2895",
   "metadata": {},
   "outputs": [],
   "source": [
    "# Remove leading or trailing whitespace from all string cells in the DataFrame\n",
    "df = df.apply(lambda col: col.map(lambda x: x.strip() if isinstance(x, str) else x) \n",
    "              if col.dtype == \"object\" else col)\n",
    "\n",
    "# Re-run the 2 codes above after this one to test if the white space in the cells is removed or not"
   ]
  },
  {
   "cell_type": "code",
   "execution_count": 949,
   "id": "ee75dc21-9def-4b15-ab71-510144151fe8",
   "metadata": {},
   "outputs": [],
   "source": [
    "# Extra step (Adding a new column based on \"spotify_popularity\")\n",
    "# The column is categorical (not popular, somewhat popular, popular, very popular) \n",
    "# Each category will represent a level so we can make it numerical\n",
    "# 0-24   -> not popular  -> level 0\n",
    "# 25-49  -> somewhat popular -> level 1\n",
    "# 50-74  -> popular      -> level 2\n",
    "# 75-100 -> very popular -> level 3\n",
    "\n",
    "def assign_spotify_popularity_level(popularity):\n",
    "    if popularity < 25:\n",
    "        return 0\n",
    "    elif popularity < 50:\n",
    "        return 1\n",
    "    elif popularity < 75:\n",
    "        return 2\n",
    "    else:\n",
    "        return 3\n",
    "        \n",
    "df[\"spotify_popularity_level\"] = df[\"spotify_popularity\"].apply(assign_spotify_popularity_level)"
   ]
  },
  {
   "cell_type": "code",
   "execution_count": null,
   "id": "99dedc50-4d10-451c-bead-163a163cea21",
   "metadata": {},
   "outputs": [
    {
     "name": "stdout",
     "output_type": "stream",
     "text": [
      "Negative values in Spotify Streams: Empty DataFrame\n",
      "Columns: [track, album_name, artist, release_date, isrc, all_time_rank, track_score, spotify_streams, spotify_playlist_count, spotify_playlist_reach, spotify_popularity, youtube_views, youtube_likes, tiktok_posts, tiktok_likes, tiktok_views, youtube_playlist_reach, apple_music_playlist_count, airplay_spins, siriusxm_spins, deezer_playlist_count, deezer_playlist_reach, amazon_playlist_count, pandora_streams, pandora_track_stations, soundcloud_streams, shazam_counts, explicit_track, spotify_popularity_level]\n",
      "Index: []\n",
      "\n",
      "[0 rows x 29 columns]\n"
     ]
    }
   ],
   "source": [
    "# Step 6 (Detecting and Handling Outliers)\n",
    "\n",
    "# For this dataset, large values aren't really considered outliers since its alright for some rows to \n",
    "# have extreme values (e.g., Spotify Streams for a song can have up to 4 billion streams) however, below\n",
    "# is a code for handling outliers as an example\n",
    "\n",
    "# Get a list of numeric columns (float and int)\n",
    "# numeric_cols = df.select_dtypes(include=[\"float64\", \"int64\"]).columns\n",
    "\n",
    "# Loop through each numeric column and remove rows with outlier values\n",
    "#for col in numeric_cols:\n",
    "    #Q1 = df[col].quantile(0.25)\n",
    "    #Q3 = df[col].quantile(0.75)\n",
    "    #IQR = Q3 - Q1\n",
    "    #lower_bound = Q1 - 1.5 * IQR\n",
    "    #upper_bound = Q3 + 1.5 * IQR\n",
    "    # Remove outliers by keeping only rows within the bounds\n",
    "    #df = df[(df[col] >= lower_bound) & (df[col] <= upper_bound)]\n",
    "\n",
    "\n",
    "# Lastly we will check for negative values and make sure to remove them\n",
    "# Check for negative values in the 'spotify_streams' column\n",
    "negatives = df[df[\"spotify_streams\"] < 0]\n",
    "print(\"Negative values in Spotify Streams:\", negatives)\n",
    "\n",
    "# Remove rows where 'spotify_streams' is negative\n",
    "df = df[df[\"spotify_streams\"] >= 0]\n",
    "# There is no negative values so no rows will be removed"
   ]
  },
  {
   "cell_type": "code",
   "execution_count": 953,
   "id": "4ee3dbea-b1b3-4b39-9471-940ddad77af7",
   "metadata": {},
   "outputs": [
    {
     "data": {
      "image/png": "[encoded data removed]",
      "text/plain": [
       "<Figure size 640x480 with 1 Axes>"
      ]
     },
     "metadata": {},
     "output_type": "display_data"
    }
   ],
   "source": [
    "# Here we use a box plot to demonstrate, the 2 large values on the far right are true values \n",
    "# since some songs have lots of streams \n",
    "sns.boxplot(x='spotify_streams', data=df)\n",
    "plt.show()"
   ]
  },
  {
   "cell_type": "code",
   "execution_count": 955,
   "id": "61f21fe5-d2c7-46d5-8fb6-90427609894b",
   "metadata": {},
   "outputs": [],
   "source": [
    "# Extra Step (Re-ordering the Columns based on logical groupings)\n",
    "\n",
    "new_order = [\n",
    "    # Identification & Metadata\n",
    "    \"track\", \"album_name\", \"artist\", \"release_date\", \"isrc\",\n",
    "    # Ranking & Scores\n",
    "    \"all_time_rank\", \"track_score\",\n",
    "    # Spotify Metrics\n",
    "    \"spotify_streams\", \"spotify_playlist_count\", \"spotify_playlist_reach\", \"spotify_popularity\", \"spotify_popularity_level\",\n",
    "    # YouTube Metrics\n",
    "    \"youtube_views\", \"youtube_likes\", \"youtube_playlist_reach\",\n",
    "    # TikTok Metrics\n",
    "    \"tiktok_posts\", \"tiktok_likes\", \"tiktok_views\",\n",
    "    # Apple Music Metrics\n",
    "    \"apple_music_playlist_count\",\n",
    "    # Radio Spins\n",
    "    \"airplay_spins\", \"siriusxm_spins\",\n",
    "    # Deezer Metrics\n",
    "    \"deezer_playlist_count\", \"deezer_playlist_reach\",\n",
    "    # Amazon Metrics\n",
    "    \"amazon_playlist_count\",\n",
    "    # Pandora Metrics\n",
    "    \"pandora_streams\", \"pandora_track_stations\",\n",
    "    # Other Streaming Platforms\n",
    "    \"soundcloud_streams\", \"shazam_counts\",\n",
    "    # Additional Indicators\n",
    "    \"explicit_track\"\n",
    "]\n",
    "\n",
    "# Reorder the DataFrame columns\n",
    "df = df[new_order]"
   ]
  },
  {
   "cell_type": "code",
   "execution_count": null,
   "id": "3cdac30c-0361-473f-9be5-aab3246f717d",
   "metadata": {},
   "outputs": [
    {
     "name": "stdout",
     "output_type": "stream",
     "text": [
      "        artist  spotify_streams  spotify_playlist_count  \\\n",
      "0    $OHO BANI       54065563.0             7779.000000   \n",
      "1  $uicideboy$      188605270.0            46010.555556   \n",
      "2          &ME       34601626.0            34272.000000   \n",
      "3     (G)I-DLE      219234613.0            20092.000000   \n",
      "4       *NSYNC       69041864.0            10118.000000   \n",
      "\n",
      "   spotify_playlist_reach  youtube_views  tiktok_views  \n",
      "0            9.672092e+06   6.744201e+06  0.000000e+00  \n",
      "1            6.602650e+06   7.677397e+07  6.274127e+07  \n",
      "2            1.491486e+07   0.000000e+00  8.694440e+05  \n",
      "3            9.513365e+06   3.013097e+08  5.635451e+08  \n",
      "4            7.035846e+06   2.795194e+07  5.701336e+07  \n"
     ]
    }
   ],
   "source": [
    "# For this dataset, there isn't much to be aggregated since every row is about a different track from different albums and artists\n",
    "# however, here is an example of grouping by artists since an Artist can have multiple tracks.\n",
    "\n",
    "artist_summary = df.groupby(\"artist\").agg({\n",
    "    \"spotify_streams\": \"mean\",\n",
    "    \"spotify_playlist_count\": \"mean\",\n",
    "    \"spotify_playlist_reach\": \"mean\",\n",
    "    \"youtube_views\": \"mean\",\n",
    "    \"tiktok_views\": \"mean\"\n",
    "}).reset_index()\n",
    "\n",
    "print(artist_summary.head())"
   ]
  },
  {
   "cell_type": "code",
   "execution_count": 961,
   "id": "a2780bdd-2e06-448a-ba29-1689fea6c3f7",
   "metadata": {},
   "outputs": [],
   "source": [
    "# Lastly, to convert from a Dataframe to csv\n",
    "df.to_csv(\"Most_Streams_Cleaned_last.csv\", index=False, encoding=\"utf-8\")"
   ]
  },
  {
   "cell_type": "code",
   "execution_count": null,
   "id": "b4c66d02-c78c-45a3-b5e8-4223ec769037",
   "metadata": {},
   "outputs": [
    {
     "data": {
      "text/plain": [
       "track                                 object\n",
       "album_name                            object\n",
       "artist                                object\n",
       "release_date                  datetime64[ns]\n",
       "isrc                                  object\n",
       "all_time_rank                          int64\n",
       "track_score                          float64\n",
       "spotify_streams                      float64\n",
       "spotify_playlist_count               float64\n",
       "spotify_playlist_reach               float64\n",
       "spotify_popularity                   float64\n",
       "spotify_popularity_level               int64\n",
       "youtube_views                        float64\n",
       "youtube_likes                        float64\n",
       "youtube_playlist_reach               float64\n",
       "tiktok_posts                         float64\n",
       "tiktok_likes                         float64\n",
       "tiktok_views                         float64\n",
       "apple_music_playlist_count           float64\n",
       "airplay_spins                        float64\n",
       "siriusxm_spins                       float64\n",
       "deezer_playlist_count                float64\n",
       "deezer_playlist_reach                float64\n",
       "amazon_playlist_count                float64\n",
       "pandora_streams                      float64\n",
       "pandora_track_stations               float64\n",
       "soundcloud_streams                   float64\n",
       "shazam_counts                        float64\n",
       "explicit_track                         int64\n",
       "dtype: object"
      ]
     },
     "execution_count": 967,
     "metadata": {},
     "output_type": "execute_result"
    }
   ],
   "source": [
    "# When reading the cleaned csv file, make sure to include parse dates so the datatype of the date column is correctly formatted\n",
    "dfnew = pd.read_csv(\"Most_Streams_Cleaned_last.csv\", parse_dates=[\"release_date\"])\n",
    "dfnew.dtypes"
   ]
  }
 ],
 "metadata": {
  "kernelspec": {
   "display_name": "Python 3 (ipykernel)",
   "language": "python",
   "name": "python3"
  },
  "language_info": {
   "codemirror_mode": {
    "name": "ipython",
    "version": 3
   },
   "file_extension": ".py",
   "mimetype": "text/x-python",
   "name": "python",
   "nbconvert_exporter": "python",
   "pygments_lexer": "ipython3",
   "version": "3.12.7"
  }
 },
 "nbformat": 4,
 "nbformat_minor": 5
}
